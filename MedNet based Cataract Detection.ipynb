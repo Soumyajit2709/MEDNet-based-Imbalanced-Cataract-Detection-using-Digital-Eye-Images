{
 "cells": [
  {
   "cell_type": "code",
   "execution_count": null,
   "id": "3fc0c160",
   "metadata": {},
   "outputs": [],
   "source": [
    "import os\n",
    "import numpy as np\n",
    "from tensorflow.keras.preprocessing.image import ImageDataGenerator\n",
    "from tensorflow.keras.utils import to_categorical\n",
    "import tensorflow as tf\n",
    "from tensorflow import keras\n",
    "from tensorflow.keras import layers"
   ]
  },
  {
   "cell_type": "code",
   "execution_count": null,
   "id": "90a772bb",
   "metadata": {},
   "outputs": [],
   "source": [
    "train_dir = 'D:\\datasets\\Cataract Data\\Train'\n",
    "test_dir = 'D:\\datasets\\Cataract Data\\Test'\n",
    "input_shape = (128, 128)"
   ]
  },
  {
   "cell_type": "markdown",
   "id": "98b5646d",
   "metadata": {},
   "source": [
    "### Preparing the data"
   ]
  },
  {
   "cell_type": "code",
   "execution_count": null,
   "id": "43ab34b8",
   "metadata": {},
   "outputs": [],
   "source": [
    "train_datagen = ImageDataGenerator(rescale=1./255, rotation_range=20, width_shift_range=0.2, height_shift_range=0.2, horizontal_flip=True, shear_range=0.2, zoom_range=0.2)"
   ]
  },
  {
   "cell_type": "code",
   "execution_count": null,
   "id": "4aea39c4",
   "metadata": {},
   "outputs": [],
   "source": [
    "test_datagen = ImageDataGenerator(rescale=1./255)"
   ]
  },
  {
   "cell_type": "code",
   "execution_count": null,
   "id": "33261c3e",
   "metadata": {},
   "outputs": [],
   "source": [
    "train_generator = train_datagen.flow_from_directory(train_dir, target_size=input_shape, batch_size=16, class_mode='categorical')"
   ]
  },
  {
   "cell_type": "code",
   "execution_count": null,
   "id": "03d7908e",
   "metadata": {},
   "outputs": [],
   "source": [
    "test_generator = test_datagen.flow_from_directory(test_dir, target_size=input_shape, batch_size=16, class_mode='categorical')"
   ]
  },
  {
   "cell_type": "code",
   "execution_count": null,
   "id": "f7a1a44d",
   "metadata": {},
   "outputs": [],
   "source": [
    "num_classes = len(train_generator.class_indices)"
   ]
  },
  {
   "cell_type": "markdown",
   "id": "8cf578ca",
   "metadata": {},
   "source": [
    "### Building MEDNet Model"
   ]
  },
  {
   "cell_type": "code",
   "execution_count": null,
   "id": "116df472",
   "metadata": {},
   "outputs": [],
   "source": [
    "def build_mednet(input_shape, num_classes):\n",
    "    model = keras.Sequential()\n",
    "\n",
    "    # Traditional Convolutional Layers\n",
    "    model.add(layers.Conv2D(64, (3, 3), activation='relu', input_shape=input_shape))\n",
    "    model.add(layers.BatchNormalization())\n",
    "    model.add(layers.Conv2D(64, (5, 5), activation='relu'))\n",
    "    model.add(layers.BatchNormalization())\n",
    "\n",
    "    # Parallel Convolutional Blocks\n",
    "    for _ in range(8):\n",
    "        for kernel_size in [1, 3, 5, 7]:\n",
    "            model.add(layers.Conv2D(64, (kernel_size, kernel_size), activation='relu'))\n",
    "        model.add(layers.BatchNormalization())\n",
    "\n",
    "    # Connections between Blocks\n",
    "    for _ in range(12):\n",
    "        model.add(layers.Conv2D(64, (1, 1), activation='relu'))\n",
    "\n",
    "    # Fully Connected Layers with Dropout\n",
    "    model.add(layers.Flatten())\n",
    "    model.add(layers.Dense(512, activation='relu'))\n",
    "    model.add(layers.Dropout(0.5))\n",
    "    model.add(layers.Dense(num_classes, activation='softmax'))\n",
    "\n",
    "    return model"
   ]
  },
  {
   "cell_type": "code",
   "execution_count": null,
   "id": "e95b0e43",
   "metadata": {},
   "outputs": [],
   "source": [
    "mednet_model = build_mednet(input_shape + (3,), num_classes)"
   ]
  },
  {
   "cell_type": "code",
   "execution_count": null,
   "id": "05505cd6",
   "metadata": {},
   "outputs": [],
   "source": [
    "mednet_model.summary()"
   ]
  },
  {
   "cell_type": "code",
   "execution_count": null,
   "id": "cb561451",
   "metadata": {},
   "outputs": [],
   "source": [
    "mednet_model.compile(optimizer='adam', loss='categorical_crossentropy', metrics=['accuracy'])"
   ]
  },
  {
   "cell_type": "markdown",
   "id": "034935c6",
   "metadata": {},
   "source": [
    "### Training the model"
   ]
  },
  {
   "cell_type": "code",
   "execution_count": null,
   "id": "833f25b1",
   "metadata": {},
   "outputs": [],
   "source": [
    "history = mednet_model.fit(train_generator, validation_data=test_generator, epochs=1)"
   ]
  },
  {
   "cell_type": "code",
   "execution_count": null,
   "id": "67685b4d",
   "metadata": {},
   "outputs": [],
   "source": [
    "test_loss, test_accuracy = mednet_model.evaluate(test_generator)\n",
    "print(f\"Test Accuracy: {test_accuracy * 100:.2f}%\")"
   ]
  }
 ],
 "metadata": {
  "kernelspec": {
   "display_name": "Python 3 (ipykernel)",
   "language": "python",
   "name": "python3"
  },
  "language_info": {
   "codemirror_mode": {
    "name": "ipython",
    "version": 3
   },
   "file_extension": ".py",
   "mimetype": "text/x-python",
   "name": "python",
   "nbconvert_exporter": "python",
   "pygments_lexer": "ipython3",
   "version": "3.9.17"
  }
 },
 "nbformat": 4,
 "nbformat_minor": 5
}
